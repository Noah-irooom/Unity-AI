{
  "nbformat": 4,
  "nbformat_minor": 0,
  "metadata": {
    "colab": {
      "name": "e-greedy_SlotMachine.ipynb",
      "provenance": [],
      "collapsed_sections": []
    },
    "kernelspec": {
      "name": "python3",
      "display_name": "Python 3"
    },
    "language_info": {
      "name": "python"
    }
  },
  "cells": [
    {
      "cell_type": "code",
      "metadata": {
        "id": "7YQBbzCGf1R3"
      },
      "source": [
        "import random\n",
        "import numpy as np\n",
        "# random.uniform(a, b) : a부터b까지 의 값으로 일정한 확률로"
      ],
      "execution_count": null,
      "outputs": []
    },
    {
      "cell_type": "code",
      "metadata": {
        "colab": {
          "base_uri": "https://localhost:8080/"
        },
        "id": "SMHV7JLng_mN",
        "outputId": "dbadff60-6d8b-444c-ce23-2aff6b37d036"
      },
      "source": [
        "random.uniform(1, 10)"
      ],
      "execution_count": null,
      "outputs": [
        {
          "output_type": "execute_result",
          "data": {
            "text/plain": [
              "7.644237002050966"
            ]
          },
          "metadata": {},
          "execution_count": 95
        }
      ]
    },
    {
      "cell_type": "code",
      "metadata": {
        "id": "LmKbwIdbgAXg"
      },
      "source": [
        "class SlotMachine:\n",
        "  def __init__(self, p):\n",
        "    self.p = p\n",
        "\n",
        "    # 통계모듈 붙이기\n",
        "    self.reward = 0.0 # 이제까지 받은 보상\n",
        "    self.draws = 0 # 레버를 몇번 당겼나?\n",
        "\n",
        "  # 레버를 당기면 확률 p 에따라 값을 출력 하도록\n",
        "  def draw(self):\n",
        "    self.draws += 1\n",
        "    # 정한 확률 p보다 낮으면 보상 1 추가, 보다 크면 그냥 넘어가.\n",
        "    if random.uniform(0.0, 1.0) <= self.p:  \n",
        "      self.reward += 1.0\n",
        "      return 1.0\n",
        "    return 0.0\n",
        "\n",
        "  # 현재까지의 평균 기대치\n",
        "  def getStat(self):\n",
        "    if self.draws == 0: return 0.0 # 이제까지 한번도 당기지 않은 머신은 0\n",
        "    return self.reward/self.draws # 몇번 당기면 몇번 리워드 되는지! 기대치!"
      ],
      "execution_count": null,
      "outputs": []
    },
    {
      "cell_type": "markdown",
      "metadata": {
        "id": "UIu53jddjMEq"
      },
      "source": [
        "# 실제 작업"
      ]
    },
    {
      "cell_type": "code",
      "metadata": {
        "colab": {
          "base_uri": "https://localhost:8080/"
        },
        "id": "X1x7k8KGi3ra",
        "outputId": "665c9860-0569-4922-b5c3-406d8425323a"
      },
      "source": [
        "n = int(input(\"How many slot machines : \"))\n",
        "machines = [] # 여러 슬롯 머신\n",
        "for i in range(n):\n",
        "  p = float(input(f\"Slot machiie {i+1} probability :\")) # 내가 확률 추가\n",
        "  machines.append(SlotMachine(p))# p 가 클수록 보상받을 확률 커져"
      ],
      "execution_count": null,
      "outputs": [
        {
          "name": "stdout",
          "output_type": "stream",
          "text": [
            "How many slot machines : 5\n",
            "Slot machiie 1 probability :0.1\n",
            "Slot machiie 2 probability :0.2\n",
            "Slot machiie 3 probability :0.3\n",
            "Slot machiie 4 probability :0.4\n",
            "Slot machiie 5 probability :0.5\n"
          ]
        }
      ]
    },
    {
      "cell_type": "code",
      "metadata": {
        "colab": {
          "base_uri": "https://localhost:8080/"
        },
        "id": "0T5yy70SjsNi",
        "outputId": "78b47c78-ec14-4c11-cfbd-36ab4ecd32e7"
      },
      "source": [
        "# 입실론 받기\n",
        "e = float(input(\"Enter epsilon value : \"))     # 몇 번 탐색할거냐(입실론만큼) -> 입실론 확률로 랜덤한 머신선택 0.1\n",
        "k = int(input(\"How many times do you draw: \")) # 몇 번 레버 당길거냐 - 100번"
      ],
      "execution_count": null,
      "outputs": [
        {
          "name": "stdout",
          "output_type": "stream",
          "text": [
            "Enter epsilon value : 0.9\n",
            "How many times do you draw: 1000\n"
          ]
        }
      ]
    },
    {
      "cell_type": "code",
      "metadata": {
        "colab": {
          "base_uri": "https://localhost:8080/"
        },
        "id": "Bo65qMew2D7I",
        "outputId": "7e57cd86-1776-4fd5-a6d2-6c548ce23469"
      },
      "source": [
        "# 현재 슬롯 머신의 기대값\n",
        "for i in range(len(machines)):\n",
        "  print(machines[i].getStat())"
      ],
      "execution_count": null,
      "outputs": [
        {
          "output_type": "stream",
          "name": "stdout",
          "text": [
            "0.0\n",
            "0.0\n",
            "0.0\n",
            "0.0\n",
            "0.0\n"
          ]
        }
      ]
    },
    {
      "cell_type": "code",
      "metadata": {
        "id": "1dmL2xdikPoC"
      },
      "source": [
        "statics = []\n",
        "ecs = [e]\n",
        "ec = e\n",
        "\n",
        "# k번 레버를 당기는 동안\n",
        "for i in range(k):\n",
        "    # 입실론 보다 작으면 \"랜덤하게\" 머신 선택(입실론 확률만큼) -> 랜덤하게 탐색해서 시행한다. -> 더 좋은걸 찾을 수 있는 여지가 있다.\n",
        "    if random.uniform(0.0, 1.0) <= ec:\n",
        "        choice = random.randrange(0, n)\n",
        "    # 입실론 보다 크면  \"최대 기대치\" 갖는 머신 선택 -> 이미 최대인걸 선택해서 시행한다.\n",
        "    else:\n",
        "        choice = 0\n",
        "        maxv = machines[0].getStat() # 첫번째 머신을 일단 선택하여 maxv(최대 기대치)로 설정\n",
        "        for m in range(1,n):\n",
        "            v = machines[m].getStat()\n",
        "\n",
        "            if v > maxv: # 현재 선택한 머신이 그전 머신 기대치 보다 크면 업데이트함.(기대치간 비교)\n",
        "                choice = m # choice 바뀌어야.\n",
        "                maxv = v\n",
        "    reward = machines[choice].draw()\n",
        "    statics.append(reward)\n",
        "  \n",
        "  \n",
        "    ec *= e # 고정 입실론이 아닌 어느정도 후에는 탐색보다는 시행을 많이하도록\n",
        "    ecs.append(ec)"
      ],
      "execution_count": null,
      "outputs": []
    },
    {
      "cell_type": "code",
      "metadata": {
        "id": "EWr1vtWcl0Ch"
      },
      "source": [
        "#statics"
      ],
      "execution_count": null,
      "outputs": []
    },
    {
      "cell_type": "code",
      "metadata": {
        "colab": {
          "base_uri": "https://localhost:8080/"
        },
        "id": "gvyNpzJ6mBWg",
        "outputId": "49483235-cd5c-4cf2-b21b-3a56bb930d94"
      },
      "source": [
        "print(f\"{k}번 시행후 총 보상값 : {sum(statics)}\")"
      ],
      "execution_count": null,
      "outputs": [
        {
          "output_type": "stream",
          "name": "stdout",
          "text": [
            "1000번 시행후 총 보상값 : 123.0\n"
          ]
        }
      ]
    },
    {
      "cell_type": "markdown",
      "metadata": {
        "id": "YmZ0up3ar911"
      },
      "source": [
        "# 그림그리기"
      ]
    },
    {
      "cell_type": "code",
      "metadata": {
        "id": "u6tazb2nr8zc"
      },
      "source": [
        "import matplotlib.pyplot as plt"
      ],
      "execution_count": null,
      "outputs": []
    },
    {
      "cell_type": "code",
      "metadata": {
        "colab": {
          "base_uri": "https://localhost:8080/",
          "height": 283
        },
        "id": "kJiqQuHjr8vs",
        "outputId": "f974eda1-0564-42b3-dea8-afa6060ffcb5"
      },
      "source": [
        "s = [0]\n",
        "for i in statics:\n",
        "  s.append(s[-1]+i)\n",
        "_, ax = plt.subplots()\n",
        "ax.plot(list(range(k+1)),s) # 점점시행하면서 이제까지의 보상의 합."
      ],
      "execution_count": null,
      "outputs": [
        {
          "output_type": "execute_result",
          "data": {
            "text/plain": [
              "[<matplotlib.lines.Line2D at 0x7f925102b950>]"
            ]
          },
          "metadata": {},
          "execution_count": 119
        },
        {
          "output_type": "display_data",
          "data": {
            "image/png": "[encoded data removed]",
            "text/plain": [
              "<Figure size 432x288 with 1 Axes>"
            ]
          },
          "metadata": {
            "needs_background": "light"
          }
        }
      ]
    },
    {
      "cell_type": "code",
      "metadata": {
        "colab": {
          "base_uri": "https://localhost:8080/",
          "height": 301
        },
        "id": "c591z4kTr8p0",
        "outputId": "151b9160-b0ec-4dd7-b6f4-bf990263bedf"
      },
      "source": [
        "import matplotlib.pyplot as plt\n",
        "\n",
        "s = [0]\n",
        "for i in range(k):\n",
        "    s.append((s[-1]*i+statics[i])/(i+1))\n",
        "_, ax = plt.subplots()\n",
        "ax.plot(list(range(k+1)), s, list(range(k+1)), ecs) # 점점시행하면서 평균 기대값\n",
        "# ax.plot(list(range(k+1)), s)"
      ],
      "execution_count": null,
      "outputs": [
        {
          "output_type": "execute_result",
          "data": {
            "text/plain": [
              "[<matplotlib.lines.Line2D at 0x7f925101e050>,\n",
              " <matplotlib.lines.Line2D at 0x7f925101e250>]"
            ]
          },
          "metadata": {},
          "execution_count": 120
        },
        {
          "output_type": "display_data",
          "data": {
            "image/png": "[encoded data removed]",
            "text/plain": [
              "<Figure size 432x288 with 1 Axes>"
            ]
          },
          "metadata": {
            "needs_background": "light"
          }
        }
      ]
    },
    {
      "cell_type": "code",
      "metadata": {
        "colab": {
          "base_uri": "https://localhost:8080/"
        },
        "id": "LD8v0SEHr799",
        "outputId": "cace11bc-fbcd-4f3e-dabf-d962f3396177"
      },
      "source": [
        "# 현재 슬롯 머신 기대값\n",
        "for i in range(len(machines)):\n",
        "  print(machines[i].getStat())"
      ],
      "execution_count": null,
      "outputs": [
        {
          "output_type": "stream",
          "name": "stdout",
          "text": [
            "0.10152284263959391\n",
            "0.22527472527472528\n",
            "0.32947976878612717\n",
            "0.3924731182795699\n",
            "0.5572519083969466\n"
          ]
        }
      ]
    },
    {
      "cell_type": "code",
      "metadata": {
        "id": "aAGqnYDMrltX"
      },
      "source": [
        ""
      ],
      "execution_count": null,
      "outputs": []
    },
    {
      "cell_type": "markdown",
      "metadata": {
        "id": "aq8XfnZey5zJ"
      },
      "source": [
        "# 정리"
      ]
    },
    {
      "cell_type": "code",
      "metadata": {
        "colab": {
          "base_uri": "https://localhost:8080/",
          "height": 463
        },
        "id": "xQH8uXItrJ4E",
        "outputId": "fbfc9c9f-eb68-498e-ffd5-3bca9d113351"
      },
      "source": [
        "import random\n",
        "\n",
        "\"\"\"슬롯 머신 클래스를 생성합니다.\"\"\"\n",
        "\n",
        "class SlotMachine:\n",
        "    def __init__(self, p):\n",
        "        self.p = p\n",
        "        self.reward = 0.0\n",
        "        self.draws = 0\n",
        "    \n",
        "    def draw(self):\n",
        "        self.draws += 1\n",
        "        if random.uniform(0.0, 1.0) <= self.p:\n",
        "            self.reward += 1.0\n",
        "            return 1.0\n",
        "        return 0.0\n",
        "    # 현재까지의 평균 기대치\n",
        "    def getStat(self):\n",
        "        if self.draws == 0: return 0.0\n",
        "        return self.reward/self.draws\n",
        "\n",
        "\"\"\"실제 작업\"\"\"\n",
        "\n",
        "n = int(input(\"How many slot machines : \"))\n",
        "machines = []\n",
        "for i in range(n):\n",
        "    p = float(input(f\"Slot machine {i+1} probability : \"))\n",
        "    machines.append(SlotMachine(p))\n",
        "\n",
        "e = float(input(\"Enter epsilon value : \"))\n",
        "k = int(input(\"How many times do you draw : \"))\n",
        "\n",
        "statics = []\n",
        "ecs = [e]\n",
        "ec = e\n",
        "# k번 레버를 당기는 동안\n",
        "for i in range(k):\n",
        "    if random.uniform(0.0, 1.0) <= ec:\n",
        "        choice = random.randrange(0, n)\n",
        "    else:\n",
        "        choice = 0\n",
        "        maxv = machines[0].getStat()\n",
        "        for m in range(1, n):\n",
        "            v = machines[m].getStat()\n",
        "            if v > maxv:\n",
        "                choice = m\n",
        "                maxv = v\n",
        "    reward = machines[choice].draw()\n",
        "    statics.append(reward)\n",
        "    ec *= e\n",
        "    ecs.append(ec)\n",
        "\n",
        "print(f\"{k}번 시행후 총 보상값 : {sum(statics)}\")\n",
        "\n",
        "\"\"\"그림 그리기\"\"\"\n",
        "\n",
        "import matplotlib.pyplot as plt\n",
        "\n",
        "s = [0]\n",
        "for i in range(k):\n",
        "    s.append((s[-1]*i+statics[i])/(i+1))\n",
        "_, ax = plt.subplots()\n",
        "ax.plot(list(range(k+1)), s, list(range(k+1)), ecs)\n"
      ],
      "execution_count": null,
      "outputs": [
        {
          "output_type": "stream",
          "name": "stdout",
          "text": [
            "How many slot machines : 5\n",
            "Slot machine 1 probability : 0.1\n",
            "Slot machine 2 probability : 0.2\n",
            "Slot machine 3 probability : 0.3\n",
            "Slot machine 4 probability : 0.4\n",
            "Slot machine 5 probability : 0.5\n",
            "Enter epsilon value : 0.5\n",
            "How many times do you draw : 1000\n",
            "1000번 시행후 총 보상값 : 108.0\n"
          ]
        },
        {
          "output_type": "execute_result",
          "data": {
            "text/plain": [
              "[<matplotlib.lines.Line2D at 0x7f92510b0f10>,\n",
              " <matplotlib.lines.Line2D at 0x7f92510cc190>]"
            ]
          },
          "metadata": {},
          "execution_count": 113
        },
        {
          "output_type": "display_data",
          "data": {
            "image/png": "[encoded data removed]",
            "text/plain": [
              "<Figure size 432x288 with 1 Axes>"
            ]
          },
          "metadata": {
            "needs_background": "light"
          }
        }
      ]
    },
    {
      "cell_type": "code",
      "metadata": {
        "colab": {
          "base_uri": "https://localhost:8080/"
        },
        "id": "j3UK2vUE3SMP",
        "outputId": "e60c7f29-00ba-4d80-c898-d6f6a8b6161b"
      },
      "source": [
        "# 현재 슬롯 머신 기대값\n",
        "for i in range(len(machines)):\n",
        "  print(machines[i].getStat())"
      ],
      "execution_count": null,
      "outputs": [
        {
          "output_type": "stream",
          "name": "stdout",
          "text": [
            "0.10810810810810811\n",
            "0.0\n",
            "0.0\n",
            "0.0\n",
            "0.0\n"
          ]
        }
      ]
    },
    {
      "cell_type": "code",
      "metadata": {
        "id": "K0E4kYRH3eVH"
      },
      "source": [
        "import random\n"
      ],
      "execution_count": null,
      "outputs": []
    },
    {
      "cell_type": "code",
      "metadata": {
        "colab": {
          "base_uri": "https://localhost:8080/"
        },
        "id": "U-YCsIIIGcK3",
        "outputId": "8d8b80d7-8963-4dc4-db89-aa220397527f"
      },
      "source": [
        "random.randrange(1,3)"
      ],
      "execution_count": null,
      "outputs": [
        {
          "output_type": "execute_result",
          "data": {
            "text/plain": [
              "1"
            ]
          },
          "metadata": {},
          "execution_count": 124
        }
      ]
    },
    {
      "cell_type": "code",
      "metadata": {
        "id": "UWKUl00gGeAX"
      },
      "source": [
        "turn = 1"
      ],
      "execution_count": null,
      "outputs": []
    },
    {
      "cell_type": "code",
      "metadata": {
        "id": "Og2Gq8cNOTSj"
      },
      "source": [
        "turn ^= 3"
      ],
      "execution_count": null,
      "outputs": []
    },
    {
      "cell_type": "code",
      "metadata": {
        "colab": {
          "base_uri": "https://localhost:8080/"
        },
        "id": "vtSsP6wPOVBD",
        "outputId": "77fd680c-1517-47c9-d5ab-7986a3dd693d"
      },
      "source": [
        "turn"
      ],
      "execution_count": null,
      "outputs": [
        {
          "output_type": "execute_result",
          "data": {
            "text/plain": [
              "2"
            ]
          },
          "metadata": {},
          "execution_count": 127
        }
      ]
    },
    {
      "cell_type": "code",
      "metadata": {
        "colab": {
          "base_uri": "https://localhost:8080/"
        },
        "id": "DrG3J95yOVSr",
        "outputId": "a66069de-92b6-4514-f5a0-65f38d872d0f"
      },
      "source": [
        "random.choice([1, 2, 3])"
      ],
      "execution_count": null,
      "outputs": [
        {
          "output_type": "execute_result",
          "data": {
            "text/plain": [
              "1"
            ]
          },
          "metadata": {},
          "execution_count": 129
        }
      ]
    },
    {
      "cell_type": "code",
      "metadata": {
        "id": "wpJWaER2SyKp"
      },
      "source": [
        ""
      ],
      "execution_count": null,
      "outputs": []
    }
  ]
}